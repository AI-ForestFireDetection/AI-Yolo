{
 "nbformat": 4,
 "nbformat_minor": 0,
 "metadata": {
  "colab": {
   "provenance": [],
   "toc_visible": true,
   "authorship_tag": "ABX9TyNlyt8qY9M7Kc3v7uZNxrJr",
   "include_colab_link": true
  },
  "kernelspec": {
   "name": "python3",
   "language": "python",
   "display_name": "Python 3 (ipykernel)"
  },
  "language_info": {
   "name": "python"
  }
 },
 "cells": [
  {
   "cell_type": "markdown",
   "metadata": {
    "id": "view-in-github",
    "colab_type": "text"
   },
   "source": [
    "<a href=\"https://colab.research.google.com/github/AI-ForestFireDetection/AI-Yolo/blob/rihabbaccari/Fire_detection_yolo.ipynb\" target=\"_parent\"><img src=\"https://colab.research.google.com/assets/colab-badge.svg\" alt=\"Open In Colab\"/></a>"
   ]
  },
  {
   "cell_type": "markdown",
   "source": [
    "**Install YOLOv8**"
   ],
   "metadata": {
    "id": "N4uvh-sU01pT"
   }
  },
  {
   "cell_type": "code",
   "execution_count": 1,
   "metadata": {
    "colab": {
     "base_uri": "https://localhost:8080/"
    },
    "id": "v45HiE93rNKp",
    "outputId": "64f76b43-a798-463f-cef9-e2620b9023bb"
   },
   "outputs": [
    {
     "name": "stderr",
     "output_type": "stream",
     "text": [
      "Ultralytics YOLOv8.0.143 🚀 Python-3.11.3 torch-2.0.1 CPU (Intel Core(TM) i7-8550U 1.80GHz)\n",
      "Setup complete ✅ (8 CPUs, 15.5 GB RAM, 80.1/232.2 GB disk)\n"
     ]
    }
   ],
   "source": [
    "!pip install ultralytics==8.0.20    \n",
    "\n",
    "from IPython import display\n",
    "display.clear_output()\n",
    "\n",
    "import ultralytics\n",
    "ultralytics.checks()"
   ]
  },
  {
   "cell_type": "code",
   "source": [
    "from ultralytics import YOLO\n",
    "\n",
    "from IPython.display import display, Image"
   ],
   "metadata": {
    "id": "8AaPSqmK0s1f",
    "ExecuteTime": {
     "end_time": "2023-07-27T21:27:19.151120169Z",
     "start_time": "2023-07-27T21:27:18.872931511Z"
    }
   },
   "execution_count": 2,
   "outputs": []
  },
  {
   "cell_type": "code",
   "source": [
    "!pip install roboflow\n",
    "\n",
    "from roboflow import Roboflow\n",
    "rf = Roboflow(api_key=\"8L6hyruDOpDBciaXpKS1\")\n",
    "project = rf.workspace(\"ghulam-ishaq-khan-institute-3qit1\").project(\"forest-fire-detection-fis51\")\n",
    "dataset = project.version(9).download(\"yolov8\")\n"
   ],
   "metadata": {
    "colab": {
     "base_uri": "https://localhost:8080/",
     "height": 1000
    },
    "id": "KzljZm5W1GCD",
    "outputId": "cc1c12c9-0a91-4990-fb0a-b2b929454807",
    "ExecuteTime": {
     "end_time": "2023-07-27T22:24:32.701032066Z",
     "start_time": "2023-07-27T22:13:29.785247747Z"
    }
   },
   "execution_count": 6,
   "outputs": [
    {
     "name": "stdout",
     "output_type": "stream",
     "text": [
      "Requirement already satisfied: roboflow in /home/atar/anaconda3/lib/python3.11/site-packages (1.1.2)\r\n",
      "Requirement already satisfied: certifi==2022.12.7 in /home/atar/anaconda3/lib/python3.11/site-packages (from roboflow) (2022.12.7)\r\n",
      "Requirement already satisfied: chardet==4.0.0 in /home/atar/anaconda3/lib/python3.11/site-packages (from roboflow) (4.0.0)\r\n",
      "Requirement already satisfied: cycler==0.10.0 in /home/atar/anaconda3/lib/python3.11/site-packages (from roboflow) (0.10.0)\r\n",
      "Requirement already satisfied: idna==2.10 in /home/atar/anaconda3/lib/python3.11/site-packages (from roboflow) (2.10)\r\n",
      "Requirement already satisfied: kiwisolver>=1.3.1 in /home/atar/anaconda3/lib/python3.11/site-packages (from roboflow) (1.4.4)\r\n",
      "Requirement already satisfied: matplotlib in /home/atar/anaconda3/lib/python3.11/site-packages (from roboflow) (3.7.1)\r\n",
      "Requirement already satisfied: numpy>=1.18.5 in /home/atar/anaconda3/lib/python3.11/site-packages (from roboflow) (1.24.3)\r\n",
      "Requirement already satisfied: opencv-python>=4.1.2 in /home/atar/anaconda3/lib/python3.11/site-packages (from roboflow) (4.8.0.74)\r\n",
      "Requirement already satisfied: Pillow>=7.1.2 in /home/atar/anaconda3/lib/python3.11/site-packages (from roboflow) (8.4.0)\r\n",
      "Requirement already satisfied: pyparsing==2.4.7 in /home/atar/anaconda3/lib/python3.11/site-packages (from roboflow) (2.4.7)\r\n",
      "Requirement already satisfied: python-dateutil in /home/atar/anaconda3/lib/python3.11/site-packages (from roboflow) (2.8.2)\r\n",
      "Requirement already satisfied: python-dotenv in /home/atar/anaconda3/lib/python3.11/site-packages (from roboflow) (1.0.0)\r\n",
      "Requirement already satisfied: requests in /home/atar/anaconda3/lib/python3.11/site-packages (from roboflow) (2.29.0)\r\n",
      "Requirement already satisfied: six in /home/atar/anaconda3/lib/python3.11/site-packages (from roboflow) (1.16.0)\r\n",
      "Requirement already satisfied: supervision in /home/atar/anaconda3/lib/python3.11/site-packages (from roboflow) (0.12.0)\r\n",
      "Requirement already satisfied: urllib3>=1.26.6 in /home/atar/anaconda3/lib/python3.11/site-packages (from roboflow) (1.26.16)\r\n",
      "Requirement already satisfied: wget in /home/atar/anaconda3/lib/python3.11/site-packages (from roboflow) (3.2)\r\n",
      "Requirement already satisfied: tqdm>=4.41.0 in /home/atar/anaconda3/lib/python3.11/site-packages (from roboflow) (4.65.0)\r\n",
      "Requirement already satisfied: PyYAML>=5.3.1 in /home/atar/anaconda3/lib/python3.11/site-packages (from roboflow) (6.0)\r\n",
      "Requirement already satisfied: requests-toolbelt in /home/atar/anaconda3/lib/python3.11/site-packages (from roboflow) (0.9.1)\r\n",
      "Requirement already satisfied: contourpy>=1.0.1 in /home/atar/anaconda3/lib/python3.11/site-packages (from matplotlib->roboflow) (1.0.5)\r\n",
      "Requirement already satisfied: fonttools>=4.22.0 in /home/atar/anaconda3/lib/python3.11/site-packages (from matplotlib->roboflow) (4.25.0)\r\n",
      "Requirement already satisfied: packaging>=20.0 in /home/atar/anaconda3/lib/python3.11/site-packages (from matplotlib->roboflow) (23.0)\r\n",
      "Requirement already satisfied: charset-normalizer<4,>=2 in /home/atar/anaconda3/lib/python3.11/site-packages (from requests->roboflow) (2.0.4)\r\n",
      "Requirement already satisfied: opencv-python-headless<5.0.0.0,>=4.8.0.74 in /home/atar/anaconda3/lib/python3.11/site-packages (from supervision->roboflow) (4.8.0.74)\r\n",
      "loading Roboflow workspace...\n",
      "loading Roboflow project...\n",
      "Dependency ultralytics==8.0.134 is required but found version=8.0.143, to fix: `pip install ultralytics==8.0.134`\n",
      "Downloading Dataset Version Zip in forest-fire-detection-9 to yolov8: 100% [81244881 / 81244881] bytes\n"
     ]
    },
    {
     "name": "stderr",
     "output_type": "stream",
     "text": [
      "Extracting Dataset Version Zip to forest-fire-detection-9 in yolov8:: 100%|██████████| 3786/3786 [00:00<00:00, 7102.78it/s]\n"
     ]
    }
   ]
  },
  {
   "cell_type": "code",
   "source": [],
   "metadata": {
    "id": "x0fNH6PXEhTi"
   },
   "execution_count": null,
   "outputs": []
  }
 ]
}
